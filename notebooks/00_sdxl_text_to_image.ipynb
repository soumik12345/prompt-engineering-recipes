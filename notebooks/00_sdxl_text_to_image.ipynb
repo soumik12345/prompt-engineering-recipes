{
 "cells": [
  {
   "cell_type": "code",
   "execution_count": null,
   "metadata": {},
   "outputs": [],
   "source": [
    "# Clone and install the wandb-addons library\n",
    "!git clone https://github.com/soumik12345/wandb-addons > clone.logs\n",
    "!pip install ./wandb-addons[huggingface] > install.logs"
   ]
  },
  {
   "cell_type": "code",
   "execution_count": null,
   "metadata": {},
   "outputs": [],
   "source": [
    "import torch\n",
    "from diffusers import StableDiffusionXLPipeline\n",
    "\n",
    "from wandb_addons.diffusers import StableDiffusionXLCallback\n",
    "from wandb_addons.utils import autogenerate_seed"
   ]
  },
  {
   "cell_type": "code",
   "execution_count": null,
   "metadata": {},
   "outputs": [],
   "source": [
    "# Define the Stable Diffusion XL pipeline\n",
    "pipeline = StableDiffusionXLPipeline.from_pretrained(\n",
    "    \"stabilityai/stable-diffusion-xl-base-1.0\", torch_dtype=torch.float16\n",
    ")\n",
    "\n",
    "# Set the device for the pipeline\n",
    "pipeline = pipeline.to(\"cuda\")\n",
    "\n",
    "# Reduce memeory footprint\n",
    "pipeline.enable_xformers_memory_efficient_attention()"
   ]
  },
  {
   "cell_type": "code",
   "execution_count": null,
   "metadata": {},
   "outputs": [],
   "source": [
    "# Set the prompt\n",
    "prompt = \"A close up portrait of an old village woman, white hair, olive green eyes, dramatic light, dreamlike light, photorealism, ultra detail, 85mm lens, indian village backdrop, long exposure background\"\n",
    "\n",
    "# Set the negative prompt, or leave it `None` if you don't want to use it\n",
    "negative_prompt = None\n",
    "\n",
    "# Set the height and width of the generated image\n",
    "height, witdth = 1024, 1024\n",
    "\n",
    "# Automatically generate a seed for the generation, optionally give one of your own.\n",
    "# This would ensure reproducibility of the experiment.\n",
    "seed = autogenerate_seed()\n",
    "generator = torch.Generator(device=\"cuda\").manual_seed(seed)\n",
    "\n",
    "# Additional configs for the experiment\n",
    "configs = {\n",
    "    \"eta\": 0.0,\n",
    "    \"guidance_rescale\": 0.0,\n",
    "    \"seed\": seed,\n",
    "}"
   ]
  },
  {
   "cell_type": "code",
   "execution_count": null,
   "metadata": {},
   "outputs": [],
   "source": [
    "# Create the WandB callback for StableDiffusionPipeline.\n",
    "callback = StableDiffusionXLCallback(\n",
    "    pipeline,\n",
    "    prompt=prompt,\n",
    "    negative_prompt=negative_prompt,\n",
    "    wandb_project=\"diffusers-prompt-engineering\",\n",
    "    configs=configs,\n",
    ")\n",
    "\n",
    "# Add the callback to the pipeline, and execute the pipeline.\n",
    "image = pipeline(\n",
    "    prompt,\n",
    "    negative_prompt=negative_prompt,\n",
    "    generator=generator,\n",
    "    height=height,\n",
    "    width=witdth,\n",
    "    callback=callback,\n",
    "    eta=configs[\"eta\"],\n",
    "    guidance_rescale=configs[\"guidance_rescale\"],\n",
    ")"
   ]
  }
 ],
 "metadata": {
  "language_info": {
   "name": "python"
  }
 },
 "nbformat": 4,
 "nbformat_minor": 2
}
