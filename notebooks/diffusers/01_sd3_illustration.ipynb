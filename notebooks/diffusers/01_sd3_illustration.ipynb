{
 "cells": [
  {
   "cell_type": "code",
   "execution_count": null,
   "metadata": {},
   "outputs": [],
   "source": [
    "import base64\n",
    "import io\n",
    "import os\n",
    "from getpass import getpass\n",
    "from pathlib import Path\n",
    "from typing import List, Optional, Union\n",
    "\n",
    "import torch\n",
    "import weave\n",
    "from diffusers import StableDiffusion3Pipeline\n",
    "from openai import OpenAI\n",
    "from PIL import Image\n",
    "from tqdm.auto import tqdm"
   ]
  },
  {
   "cell_type": "code",
   "execution_count": null,
   "metadata": {},
   "outputs": [],
   "source": [
    "api_key = getpass(\"Enter you OpenAI API key: \")\n",
    "os.environ[\"OPENAI_API_KEY\"] = api_key"
   ]
  },
  {
   "cell_type": "code",
   "execution_count": null,
   "metadata": {},
   "outputs": [],
   "source": [
    "EXT_TO_MIMETYPE = {\n",
    "    \".jpg\": \"image/jpeg\",\n",
    "    \".png\": \"image/png\",\n",
    "    \".svg\": \"image/svg+xml\",\n",
    "}\n",
    "\n",
    "\n",
    "def base64_encode_image(\n",
    "    image_path: Union[str, Image.Image], mimetype: Optional[str] = None\n",
    ") -> str:\n",
    "    image = Image.open(image_path) if isinstance(image_path, str) else image_path\n",
    "    mimetype = (\n",
    "        EXT_TO_MIMETYPE[Path(image_path).suffix]\n",
    "        if isinstance(image_path, str)\n",
    "        else \"image/png\"\n",
    "    )\n",
    "    byte_arr = io.BytesIO()\n",
    "    image.save(byte_arr, format=\"PNG\")\n",
    "    encoded_string = base64.b64encode(byte_arr.getvalue()).decode(\"utf-8\")\n",
    "    encoded_string = f\"data:{mimetype};base64,{encoded_string}\"\n",
    "    return str(encoded_string)"
   ]
  },
  {
   "cell_type": "code",
   "execution_count": null,
   "metadata": {},
   "outputs": [],
   "source": [
    "class SD3Model(weave.Model):\n",
    "    model_name_or_path: str\n",
    "    enable_cpu_offfload: bool\n",
    "    _pipeline: StableDiffusion3Pipeline\n",
    "\n",
    "    def __init__(self, model_name_or_path: str, enable_cpu_offfload: bool):\n",
    "        super().__init__(\n",
    "            model_name_or_path=model_name_or_path,\n",
    "            enable_cpu_offfload=enable_cpu_offfload,\n",
    "        )\n",
    "        self._pipeline = StableDiffusion3Pipeline.from_pretrained(\n",
    "            self.model_name_or_path, torch_dtype=torch.float16\n",
    "        )\n",
    "        if self.enable_cpu_offfload:\n",
    "            self._pipeline.enable_model_cpu_offload()\n",
    "        else:\n",
    "            self._pipeline = self._pipeline.to(\"cuda\")\n",
    "\n",
    "    @weave.op()\n",
    "    def predict(\n",
    "        self,\n",
    "        prompt: str,\n",
    "        negative_prompt: str,\n",
    "        num_inference_steps: int,\n",
    "        image_size: int,\n",
    "        guidance_scale: float,\n",
    "    ) -> str:\n",
    "        image = self._pipeline(\n",
    "            prompt=prompt,\n",
    "            negative_prompt=negative_prompt,\n",
    "            num_inference_steps=num_inference_steps,\n",
    "            height=image_size,\n",
    "            width=image_size,\n",
    "            guidance_scale=guidance_scale,\n",
    "        ).images[0]\n",
    "        return base64_encode_image(image)"
   ]
  },
  {
   "cell_type": "code",
   "execution_count": null,
   "metadata": {},
   "outputs": [],
   "source": [
    "class OpenAIModel(weave.Model):\n",
    "    model: str\n",
    "    max_retries: int = 5\n",
    "    seed: int = 42\n",
    "    _openai_client: OpenAI\n",
    "\n",
    "    def __init__(self, model: str):\n",
    "        super().__init__(model=model)\n",
    "        self._openai_client = OpenAI(api_key=os.environ[\"OPENAI_API_KEY\"])\n",
    "\n",
    "    @weave.op()\n",
    "    def predict(self, story: str, context: str, paragraph: str) -> str:\n",
    "        return self._openai_client.chat.completions.create(\n",
    "            model=self.model,\n",
    "            seed=self.seed,\n",
    "            messages=[\n",
    "                {\n",
    "                    \"role\": \"system\",\n",
    "                    \"content\": \"\"\"\n",
    "You are a helpful assistant to a visionary film director. You will be provided with a story, some context around\n",
    "the story, and a paragraph from the story. Given this information, you are supposed to summarize the paragraph in\n",
    "less than 40 words such that the summary provides a detailed and accurate visual description of the paragraph\n",
    "which could be used by the director and his crew to set up a scene and do a photoshoot. The summary should capture\n",
    "visual cues from the time and setting of the story from the context as well as visual cues from the entire story.\n",
    "If there are any characters or objects in the paragraph, they should be visually described in the summary,\n",
    "by looking for clues from the story.\n",
    "                    \"\"\",\n",
    "                },\n",
    "                {\n",
    "                    \"role\": \"user\",\n",
    "                    \"content\": [\n",
    "                        {\n",
    "                            \"type\": \"text\",\n",
    "                            \"text\": f\"\"\"\n",
    "Story:\n",
    "---\n",
    "{story}\n",
    "---\n",
    "\n",
    "Context around the story:\n",
    "---\n",
    "{context}\n",
    "---\n",
    "\n",
    "Paragraph:\n",
    "---\n",
    "{paragraph}\n",
    "---\n",
    "\"\"\",\n",
    "                        },\n",
    "                    ],\n",
    "                },\n",
    "            ],\n",
    "        ).choices[0].message.content"
   ]
  },
  {
   "cell_type": "code",
   "execution_count": null,
   "metadata": {},
   "outputs": [],
   "source": [
    "weave.init(project_name=\"geekyrakshit/story-illustration\")"
   ]
  },
  {
   "cell_type": "code",
   "execution_count": null,
   "metadata": {},
   "outputs": [],
   "source": [
    "context_around_story = \"\"\"\n",
    "\"The Gift of the Magi\" is a short story by O. Henry first published in 1905.\n",
    "The story tells of a young husband and wife and how they deal with the challenge\n",
    "of buying secret Christmas gifts for each other with very little money.\n",
    "As a sentimental story with a moral lesson about gift-giving, it has been popular\n",
    "for adaptation, especially for presentation at Christmas time. The plot and its twist\n",
    "ending are well known; the ending is generally considered an example of cosmic irony.\n",
    "The story was allegedly written at Pete's Tavern on Irving Place in New York City.\n",
    "\n",
    "The story was initially published in The New York Sunday World under the title\n",
    "\"Gifts of the Magi\" on December 10, 1905. It was first published in book form in the\n",
    "O. Henry collection The Four Million in April 1906.\n",
    "\"\"\"\n",
    "\n",
    "with open(\"../../gift_of_the_magi.txt\") as f:\n",
    "    story = f.read()\n",
    "\n",
    "paragraph = story.split(\"\\n\")[0]"
   ]
  },
  {
   "cell_type": "code",
   "execution_count": null,
   "metadata": {},
   "outputs": [],
   "source": [
    "openai_model = OpenAIModel(model=\"gpt-4o\")\n",
    "diffusion_model = SD3Model(\n",
    "    model_name_or_path=\"stabilityai/stable-diffusion-3-medium-diffusers\",\n",
    "    enable_cpu_offfload=True\n",
    ")"
   ]
  },
  {
   "cell_type": "code",
   "execution_count": null,
   "metadata": {},
   "outputs": [],
   "source": [
    "@weave.op()\n",
    "def generate_images(story: str, context: str, max_paragraphs: int) -> List[str]:\n",
    "    images = []\n",
    "    paragraphs = story.split(\"\\n\\n\")[:max_paragraphs]\n",
    "    for paragraph in tqdm(paragraphs):\n",
    "        if paragraph.strip() != \"\":\n",
    "            prompt = openai_model.predict(story=story, context=context, paragraph=paragraph)\n",
    "            image = diffusion_model.predict(\n",
    "                prompt=prompt + \"surreal style, artstation, digital art, illustration\",\n",
    "                negative_prompt=\"2d, ugly, distorted face, deformed fingers, scary, horror, nightmare, deformed lips, deformed eyes, deformed hands, deformed legs, impossible physics, absurdly placed objects\",\n",
    "                num_inference_steps=28,\n",
    "                image_size=1024,\n",
    "                guidance_scale=7.0,\n",
    "            )\n",
    "            images.append(image)\n",
    "    return images"
   ]
  },
  {
   "cell_type": "code",
   "execution_count": null,
   "metadata": {},
   "outputs": [],
   "source": [
    "images = generate_images(story=story, context=context_around_story, max_paragraphs=5)"
   ]
  },
  {
   "cell_type": "code",
   "execution_count": null,
   "metadata": {},
   "outputs": [],
   "source": []
  }
 ],
 "metadata": {
  "kernelspec": {
   "display_name": "Python 3",
   "language": "python",
   "name": "python3"
  },
  "language_info": {
   "codemirror_mode": {
    "name": "ipython",
    "version": 3
   },
   "file_extension": ".py",
   "mimetype": "text/x-python",
   "name": "python",
   "nbconvert_exporter": "python",
   "pygments_lexer": "ipython3",
   "version": "3.10.12"
  }
 },
 "nbformat": 4,
 "nbformat_minor": 2
}
