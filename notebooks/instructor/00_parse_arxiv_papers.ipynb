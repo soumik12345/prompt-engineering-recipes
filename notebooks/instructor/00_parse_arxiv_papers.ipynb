{
 "cells": [
  {
   "cell_type": "code",
   "id": "initial_id",
   "metadata": {
    "collapsed": true
   },
   "source": [
    "import os\n",
    "from getpass import getpass\n",
    "from typing import List, Optional\n",
    "\n",
    "import instructor\n",
    "import pymupdf4llm\n",
    "import weave\n",
    "import wget\n",
    "from openai import OpenAI\n",
    "from pydantic import BaseModel"
   ],
   "outputs": [],
   "execution_count": null
  },
  {
   "metadata": {
    "ExecuteTime": {
     "start_time": "2024-08-18T14:51:54.619499Z"
    }
   },
   "cell_type": "code",
   "source": [
    "api_key = getpass(\"Enter you OpenAI API key: \")\n",
    "os.environ[\"OPENAI_API_KEY\"] = api_key"
   ],
   "id": "420068b0e4ac55f4",
   "outputs": [],
   "execution_count": null
  },
  {
   "metadata": {
    "ExecuteTime": {
     "start_time": "2024-08-18T14:51:57.427271Z"
    }
   },
   "cell_type": "code",
   "source": "weave.init(project_name=\"arxiv-data-extraction\")",
   "id": "9a8fcd3b8c57dedb",
   "outputs": [],
   "execution_count": null
  },
  {
   "metadata": {
    "ExecuteTime": {
     "start_time": "2024-08-18T14:52:02.060781Z"
    }
   },
   "cell_type": "code",
   "source": [
    "@weave.op()\n",
    "def get_markdown_from_arxiv(url):\n",
    "    file_path = wget.download(url=url, out=wget.detect_filename(url))\n",
    "    md_text = pymupdf4llm.to_markdown(file_path)\n",
    "    os.remove(file_path)\n",
    "    return md_text"
   ],
   "id": "599c90fa5f660680",
   "outputs": [],
   "execution_count": null
  },
  {
   "metadata": {
    "ExecuteTime": {
     "start_time": "2024-08-18T14:52:02.069925Z"
    }
   },
   "cell_type": "code",
   "source": [
    "SYSTEM_PROMPT = \"\"\"\n",
    "You are a helpful assistant to a machine learning researcher who is reading a paper from arXiv.\n",
    "You are to extract the following information from the paper:\n",
    "\n",
    "- a list of main findings in from the paper and their corresponding detailed explanations\n",
    "- the list of names of the different novel methods proposed in the paper and their corresponding detailed explanations\n",
    "- the list of names of the different existing methods used in the paper, their corresponding detailed explanations, and\n",
    "    their citations\n",
    "- the list of machine learning techniques used in the paper, such as architectures, optimizers, schedulers, etc., their\n",
    "    corresponding detailed explanations, and their citations\n",
    "- the list of evaluation metrics used in the paper, the benchmark datasets used, the values of the metrics, and their\n",
    "    corresponding detailed observation in the paper\n",
    "- the link to the GitHub repository of the paper if there is any\n",
    "- the hardware or accelerators used to perform the experiments in the paper if any\n",
    "- a list of possible further research directions that the paper suggests\n",
    "\n",
    "Here are some rules to follow:\n",
    "1. When looking for the main findings in the paper, you should look for the abstract.\n",
    "2. When looking for the explanations for the main findings, you should look for the introduction and methods section of\n",
    "    the paper.\n",
    "3. When looking for the list of existing methods used in the paper, first look at the citations, and then try explaining\n",
    "    how they were used in the paper.\n",
    "4. When looking for the list of machine learning methods used in the paper, first look at the citations, and then try\n",
    "    explaining how they were used in the paper.\n",
    "5. When looking for the evaluation metrics used in the paper, first look at the results section of the paper, and then\n",
    "    try explaining the observations made from the results. Pay special attention to the tables to find the metrics,\n",
    "    their values, the corresponding benchmark and the observation association with the result.\n",
    "6. If there are no github repositories associated with the paper, simply return \"None\".\n",
    "7. When looking for hardware and accelerators, pay special attentions to the quantity of each type of hardware and\n",
    "    accelerator. If there are no hardware or accelerators used in the paper, simply return \"None\".\n",
    "\"\"\"\n",
    "\n",
    "\n",
    "class Method(BaseModel):\n",
    "    method_name: str\n",
    "    explanation: str\n",
    "    citation: Optional[str]\n",
    "\n",
    "\n",
    "class Evaluation(BaseModel):\n",
    "    metric: str\n",
    "    benchmark: str\n",
    "    value: float\n",
    "    observation: str\n",
    "\n",
    "\n",
    "class PaperInfo(BaseModel):\n",
    "    main_findings: List[str]\n",
    "    main_finding_explanations: List[str]\n",
    "    novel_methods: List[Method]\n",
    "    existing_methods: List[Method]\n",
    "    machine_learning_techniques: List[Method]\n",
    "    metrics: List[Evaluation]\n",
    "    github_repository: str\n",
    "    hardware: str\n",
    "    further_research: List[str]\n",
    "\n",
    "\n",
    "openai_client = OpenAI()\n",
    "structured_client = instructor.from_openai(openai_client)\n",
    "\n",
    "\n",
    "class ArxivModel(weave.Model):\n",
    "    model: str\n",
    "    max_retries: int = 5\n",
    "    seed: int = 42\n",
    "    system_prompt: str = SYSTEM_PROMPT\n",
    "\n",
    "    @weave.op()\n",
    "    def predict(self, url_pdf: str) -> dict:\n",
    "        md_text = get_markdown_from_arxiv(url_pdf)\n",
    "        return structured_client.chat.completions.create(\n",
    "            model=self.model,\n",
    "            response_model=PaperInfo,\n",
    "            max_retries=self.max_retries,\n",
    "            seed=self.seed,\n",
    "            messages=[\n",
    "                {\"role\": \"system\", \"content\": SYSTEM_PROMPT},\n",
    "                {\"role\": \"user\", \"content\": md_text},\n",
    "            ],\n",
    "        ).model_dump()"
   ],
   "id": "e0fb471315e6c6e9",
   "outputs": [],
   "execution_count": null
  },
  {
   "metadata": {
    "ExecuteTime": {
     "start_time": "2024-08-18T14:52:03.231222Z"
    }
   },
   "cell_type": "code",
   "source": [
    "@weave.op()\n",
    "def arxiv_method_score(\n",
    "    method: List[dict], model_output: Optional[dict]\n",
    ") -> dict[str, float]:\n",
    "    if model_output is None:\n",
    "        return {\"method_prediction_accuracy\": 0.0}\n",
    "    predicted_methods = (\n",
    "        model_output[\"novel_methods\"]\n",
    "        + model_output[\"existing_methods\"]\n",
    "        + model_output[\"machine_learning_techniques\"]\n",
    "    )\n",
    "    num_correct_methods = 0\n",
    "    for gt_method in method:\n",
    "        for predicted_method in predicted_methods:\n",
    "            predicted_method = (\n",
    "                f\"{predicted_method['method_name']}\\n{predicted_method['explanation']}\"\n",
    "            )\n",
    "            if (\n",
    "                gt_method[\"name\"].lower() in predicted_method.lower()\n",
    "                or gt_method[\"full_name\"].lower() in predicted_method.lower()\n",
    "            ):\n",
    "                num_correct_methods += 1\n",
    "    return {\"method_prediction_accuracy\": num_correct_methods / len(predicted_methods)}"
   ],
   "id": "d1ab9872a2145ed8",
   "outputs": [],
   "execution_count": null
  },
  {
   "metadata": {
    "ExecuteTime": {
     "start_time": "2024-08-18T14:52:03.240596Z"
    }
   },
   "cell_type": "code",
   "source": [
    "arxiv_parser_model = ArxivModel(model=\"gpt-4o\")\n",
    "eval_dataset_ref = weave.ref(\"cv-papers:v0\").get()\n",
    "evaluation = weave.Evaluation(\n",
    "    dataset=eval_dataset_ref.rows[:5], scorers=[arxiv_method_score]\n",
    ")\n",
    "summary = await evaluation.evaluate(arxiv_parser_model.predict)"
   ],
   "id": "b5a6e6a90b94e0b",
   "outputs": [],
   "execution_count": null
  }
 ],
 "metadata": {
  "kernelspec": {
   "display_name": "Python 3",
   "language": "python",
   "name": "python3"
  },
  "language_info": {
   "codemirror_mode": {
    "name": "ipython",
    "version": 2
   },
   "file_extension": ".py",
   "mimetype": "text/x-python",
   "name": "python",
   "nbconvert_exporter": "python",
   "pygments_lexer": "ipython2",
   "version": "2.7.6"
  }
 },
 "nbformat": 4,
 "nbformat_minor": 5
}
